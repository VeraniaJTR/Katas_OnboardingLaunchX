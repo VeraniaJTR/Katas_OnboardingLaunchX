{
 "cells": [
  {
   "cell_type": "markdown",
   "metadata": {},
   "source": [
    "# Ejercicio1: Crear y usar listas de Python"
   ]
  },
  {
   "cell_type": "code",
   "execution_count": 19,
   "metadata": {},
   "outputs": [
    {
     "name": "stdout",
     "output_type": "stream",
     "text": [
      "Mercurio Venus Tierra Marte Jupiter Saturno Urano Neptuno Pluton\n",
      "Actualmente existen 9 Planetas\n",
      "El ultimo planeta es Pluton\n"
     ]
    }
   ],
   "source": [
    "planets = ['Mercurio','Venus','Tierra','Marte','Jupiter','Saturno','Urano','Neptuno']\n",
    "planets.append('Pluton')\n",
    "numero_planetas= len(planets)\n",
    "\n",
    "print(planets[0],planets[1],planets[2],planets[3],planets[4],planets[5],planets[6],planets[7],planets[8],)\n",
    "print('Actualmente existen',numero_planetas,'Planetas')\n",
    "print('El ultimo planeta es', planets[-1])\n",
    "\n",
    "\n"
   ]
  },
  {
   "cell_type": "markdown",
   "metadata": {},
   "source": [
    "# Ejercicio 2: Trabajando con datos de una lista"
   ]
  },
  {
   "cell_type": "code",
   "execution_count": 24,
   "metadata": {},
   "outputs": [
    {
     "name": "stdout",
     "output_type": "stream",
     "text": [
      "El indice de el planeta es 1\n",
      "Los planetas mas cercanos al sol son ['Mercurio', 'Venus', 'Tierra', 'Marte']\n",
      "Los planetas mas alejados al sol son ['Jupiter', 'Saturno', 'Urano', 'Neptuno', 'Pluton']\n"
     ]
    }
   ],
   "source": [
    "planets = ['Mercurio','Venus','Tierra','Marte','Jupiter','Saturno','Urano','Neptuno','Pluton']\n",
    "\n",
    "nombre_planeta = input('Introduce el nombre de un planeta(Utiliza mayuscula para iniciar)')\n",
    "\n",
    "index_planeta = planets.index(nombre_planeta)\n",
    "\n",
    "print('El indice de el planeta es', index_planeta)\n",
    "\n",
    "cerca_sol = planets[0:4]\n",
    "\n",
    "print('Los planetas mas cercanos al sol son',cerca_sol)\n",
    "\n",
    "lejos_sol = planets[4:]\n",
    "\n",
    "print('Los planetas mas alejados al sol son',lejos_sol)\n"
   ]
  }
 ],
 "metadata": {
  "interpreter": {
   "hash": "a40cbf6f1bd05d2d1fd855aa515bf1889ac3242fd54fed486931bdf38d612233"
  },
  "kernelspec": {
   "display_name": "Python 3.10.2 64-bit (windows store)",
   "language": "python",
   "name": "python3"
  },
  "language_info": {
   "codemirror_mode": {
    "name": "ipython",
    "version": 3
   },
   "file_extension": ".py",
   "mimetype": "text/x-python",
   "name": "python",
   "nbconvert_exporter": "python",
   "pygments_lexer": "ipython3",
   "version": "3.10.2"
  },
  "orig_nbformat": 4
 },
 "nbformat": 4,
 "nbformat_minor": 2
}
