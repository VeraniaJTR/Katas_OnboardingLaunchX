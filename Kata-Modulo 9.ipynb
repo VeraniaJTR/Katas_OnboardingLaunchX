{
 "cells": [
  {
   "cell_type": "markdown",
   "metadata": {},
   "source": [
    "# Ejercicio 1: Trabajar con argumentos en funciones"
   ]
  },
  {
   "cell_type": "code",
   "execution_count": 2,
   "metadata": {},
   "outputs": [
    {
     "name": "stdout",
     "output_type": "stream",
     "text": [
      "Reporte:\n",
      "    Promedio total: 78.33333333333333%\n",
      "    Tanque 1: 80%\n",
      "    Tanque 2: 70%\n",
      "    Tanque 3: 85% \n",
      "    \n",
      "Reporte:\n",
      "    Promedio Total: 78.0%\n",
      "    Tanque 1: 88%\n",
      "    Tanque 2: 76%\n",
      "    Tanque 3: 70% \n",
      "    \n"
     ]
    }
   ],
   "source": [
    "def generar_reporte(tanque1, tanque2, tanque3):\n",
    "    promedio_total = (tanque1 + tanque2 + tanque3) / 3\n",
    "    return f'''Reporte:\n",
    "    Promedio total: {promedio_total}%\n",
    "    Tanque 1: {tanque1}%\n",
    "    Tanque 2: {tanque2}%\n",
    "    Tanque 3: {tanque3}% \n",
    "    '''    \n",
    "print(generar_reporte(80, 70, 85))\n",
    "def promedio(valor):\n",
    "    total = sum(valor)\n",
    "    numero_tanques = len(valor)\n",
    "    return total / numero_tanques\n",
    "\n",
    "\n",
    "promedio([80, 85, 81]) \n",
    "\n",
    "def generar_reporte(tanque1, tanque2, tanque3):\n",
    "    return f'''Reporte:\n",
    "    Promedio Total: {promedio([tanque1, tanque2, tanque3])}%\n",
    "    Tanque 1: {tanque1}%\n",
    "    Tanque 2: {tanque2}%\n",
    "    Tanque 3: {tanque3}% \n",
    "    '''\n",
    "\n",
    "\n",
    "print(generar_reporte(88, 76, 70))"
   ]
  },
  {
   "cell_type": "markdown",
   "metadata": {},
   "source": [
    "# Ejercicio 2: Trabajo con argumentos de palabra clave"
   ]
  },
  {
   "cell_type": "code",
   "execution_count": 2,
   "metadata": {},
   "outputs": [
    {
     "name": "stdout",
     "output_type": "stream",
     "text": [
      "\n",
      "    Mision a marte\n",
      "    Tiempo total de viaje: 93 minutos \n",
      "    Combustible total: 73200 litros\n",
      "    \n",
      "\n",
      "    Mision a Luna\n",
      "    Tiempo total de viaje: 96 minutos\n",
      "    Combustible total: 500000\n",
      "    \n"
     ]
    }
   ],
   "source": [
    "def informe_mision( h_prelanzamiento, t_vuelo, destino, tanque_externo, tanque_interno):\n",
    "    return f'''\n",
    "    Mision a {destino}\n",
    "    Tiempo total de viaje: {h_prelanzamiento + t_vuelo} minutos \n",
    "    Combustible total: {tanque_externo + tanque_interno} litros\n",
    "    '''\n",
    "\n",
    "print(informe_mision(22, 71, \"marte\", 71000, 2200))\n",
    "\n",
    "\n",
    "def informe_mision(destino, *minutos, **reserva_combustible):\n",
    "    return f'''\n",
    "    Mision a {destino}\n",
    "    Tiempo total de viaje: {sum(minutos)} minutos\n",
    "    Combustible total: {sum(reserva_combustible.values())}\n",
    "    '''\n",
    "\n",
    "print(informe_mision(\"Luna\", 20, 55, 21, main=300000, external=200000))\n"
   ]
  }
 ],
 "metadata": {
  "interpreter": {
   "hash": "a40cbf6f1bd05d2d1fd855aa515bf1889ac3242fd54fed486931bdf38d612233"
  },
  "kernelspec": {
   "display_name": "Python 3.10.2 64-bit (windows store)",
   "language": "python",
   "name": "python3"
  },
  "language_info": {
   "codemirror_mode": {
    "name": "ipython",
    "version": 3
   },
   "file_extension": ".py",
   "mimetype": "text/x-python",
   "name": "python",
   "nbconvert_exporter": "python",
   "pygments_lexer": "ipython3",
   "version": "3.10.2"
  },
  "orig_nbformat": 4
 },
 "nbformat": 4,
 "nbformat_minor": 2
}
