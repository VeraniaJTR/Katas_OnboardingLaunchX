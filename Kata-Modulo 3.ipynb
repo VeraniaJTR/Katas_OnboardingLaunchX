{
 "cells": [
  {
   "cell_type": "markdown",
   "metadata": {},
   "source": [
    "# Condicional If else elif "
   ]
  },
  {
   "cell_type": "code",
   "execution_count": 74,
   "metadata": {},
   "outputs": [
    {
     "name": "stdout",
     "output_type": "stream",
     "text": [
      "El Astereoide se acerca\n"
     ]
    }
   ],
   "source": [
    "asteroide = 49\n",
    "distanciapermitida = 25\n",
    "\n",
    "if asteroide > distanciapermitida:\n",
    "    print(\"El Astereoide se acerca\")\n",
    "else:\n",
    "    print(\"Todo es seguro en el espacio\")\n",
    "\n"
   ]
  },
  {
   "cell_type": "code",
   "execution_count": 75,
   "metadata": {},
   "outputs": [
    {
     "name": "stdout",
     "output_type": "stream",
     "text": [
      "No hay nada en el cielo\n"
     ]
    }
   ],
   "source": [
    "asteroide= 19\n",
    "\n",
    "if asteroide > 20:\n",
    "    print(\"Hay un rayo de luz en el cielo\")\n",
    "elif asteroide == 20:\n",
    "    print(\"Hay un rayo de luz en el cielo\")\n",
    "else:\n",
    "    print(\"No hay nada en el cielo\")    "
   ]
  },
  {
   "cell_type": "markdown",
   "metadata": {},
   "source": [
    "# Condicional and or"
   ]
  },
  {
   "cell_type": "code",
   "execution_count": 76,
   "metadata": {},
   "outputs": [
    {
     "name": "stdout",
     "output_type": "stream",
     "text": [
      "Hay un rayo de luz en el cielo\n"
     ]
    }
   ],
   "source": [
    "tamañoasteroide = 100\n",
    "velocidadasteroide= 20\n",
    "\n",
    "if tamañoasteroide < 25:\n",
    "    print(\"El asteroide no representa un peligro para la tierra\")\n",
    "elif tamañoasteroide > 25 and tamañoasteroide < 1000 and velocidadasteroide > 25:\n",
    "    print(\"El asteroide representa peligro para la tierra\")\n",
    "elif velocidadasteroide >= 20:\n",
    "    print(\"Hay un rayo de luz en el cielo\")\n",
    "else:\n",
    "    print(\"No hay nada en el cielo\")\n",
    "\n"
   ]
  }
 ],
 "metadata": {
  "interpreter": {
   "hash": "a40cbf6f1bd05d2d1fd855aa515bf1889ac3242fd54fed486931bdf38d612233"
  },
  "kernelspec": {
   "display_name": "Python 3.10.2 64-bit (windows store)",
   "language": "python",
   "name": "python3"
  },
  "language_info": {
   "codemirror_mode": {
    "name": "ipython",
    "version": 3
   },
   "file_extension": ".py",
   "mimetype": "text/x-python",
   "name": "python",
   "nbconvert_exporter": "python",
   "pygments_lexer": "ipython3",
   "version": "3.10.2"
  },
  "orig_nbformat": 4
 },
 "nbformat": 4,
 "nbformat_minor": 2
}
