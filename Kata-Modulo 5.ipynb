{
 "cells": [
  {
   "cell_type": "markdown",
   "metadata": {},
   "source": [
    "# Ejercicio1 - Utilizar operadores aritméticos"
   ]
  },
  {
   "cell_type": "code",
   "execution_count": 9,
   "metadata": {},
   "outputs": [
    {
     "name": "stdout",
     "output_type": "stream",
     "text": [
      "628949330\n",
      "390577534\n"
     ]
    }
   ],
   "source": [
    "from math import ceil\n",
    "\n",
    "tierra = 149597870\n",
    "jupiter =778547200\n",
    "\n",
    "resultado_km = abs(tierra - jupiter)\n",
    "resultado_millas = ceil(resultado_km * 0.621)\n",
    "\n",
    "print(resultado_km)\n",
    "print(resultado_millas)"
   ]
  },
  {
   "cell_type": "markdown",
   "metadata": {},
   "source": [
    "# Ejercicio 2: convierte cadenas en números y usa valores absolutos"
   ]
  },
  {
   "cell_type": "code",
   "execution_count": 19,
   "metadata": {},
   "outputs": [
    {
     "name": "stdout",
     "output_type": "stream",
     "text": [
      "91700000\n",
      "56945700.0\n"
     ]
    }
   ],
   "source": [
    "\n",
    "planeta_1 = input('Distancia del sol para el primer planeta')\n",
    "planeta_2 = input('Distancia desde el sol para el segundo planeta')\n",
    "\n",
    "planeta_1= int(planeta_1)\n",
    "planeta_2= int(planeta_2)\n",
    "\n",
    "distancia_km= abs(planeta_1 - planeta_2)\n",
    "\n",
    "distancia_millas= distancia_km * 0.621\n",
    "\n",
    "print(distancia_km)\n",
    "print(distancia_millas)"
   ]
  }
 ],
 "metadata": {
  "interpreter": {
   "hash": "a40cbf6f1bd05d2d1fd855aa515bf1889ac3242fd54fed486931bdf38d612233"
  },
  "kernelspec": {
   "display_name": "Python 3.10.2 64-bit (windows store)",
   "language": "python",
   "name": "python3"
  },
  "language_info": {
   "codemirror_mode": {
    "name": "ipython",
    "version": 3
   },
   "file_extension": ".py",
   "mimetype": "text/x-python",
   "name": "python",
   "nbconvert_exporter": "python",
   "pygments_lexer": "ipython3",
   "version": "3.10.2"
  },
  "orig_nbformat": 4
 },
 "nbformat": 4,
 "nbformat_minor": 2
}
